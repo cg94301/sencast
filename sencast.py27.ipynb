{
 "cells": [
  {
   "cell_type": "markdown",
   "metadata": {},
   "source": [
    "# SenCast - Twitter sentiment analysis for stock market direction\n",
    "\n",
    "## Ticker Data"
   ]
  },
  {
   "cell_type": "code",
   "execution_count": 1,
   "metadata": {
    "collapsed": false
   },
   "outputs": [
    {
     "name": "stdout",
     "output_type": "stream",
     "text": [
      "/Users/chrisg/opt/anaconda2/envs/sencast.py27/bin/python\n"
     ]
    },
    {
     "data": {
      "text/html": [
       "<div>\n",
       "<table border=\"1\" class=\"dataframe\">\n",
       "  <thead>\n",
       "    <tr style=\"text-align: right;\">\n",
       "      <th></th>\n",
       "      <th>Date</th>\n",
       "      <th>Open</th>\n",
       "      <th>High</th>\n",
       "      <th>Low</th>\n",
       "      <th>Close</th>\n",
       "      <th>Volume</th>\n",
       "      <th>Adj Close</th>\n",
       "      <th>gain</th>\n",
       "    </tr>\n",
       "  </thead>\n",
       "  <tbody>\n",
       "    <tr>\n",
       "      <th>20</th>\n",
       "      <td>2016-11-02</td>\n",
       "      <td>18017.720703</td>\n",
       "      <td>18044.150391</td>\n",
       "      <td>17931.890625</td>\n",
       "      <td>17959.640625</td>\n",
       "      <td>88610000</td>\n",
       "      <td>17959.640625</td>\n",
       "      <td>-58.080078</td>\n",
       "    </tr>\n",
       "    <tr>\n",
       "      <th>19</th>\n",
       "      <td>2016-11-03</td>\n",
       "      <td>17978.750000</td>\n",
       "      <td>18006.960938</td>\n",
       "      <td>17904.070312</td>\n",
       "      <td>17930.669922</td>\n",
       "      <td>77860000</td>\n",
       "      <td>17930.669922</td>\n",
       "      <td>-48.080078</td>\n",
       "    </tr>\n",
       "    <tr>\n",
       "      <th>18</th>\n",
       "      <td>2016-11-04</td>\n",
       "      <td>17928.349609</td>\n",
       "      <td>17986.759766</td>\n",
       "      <td>17883.560547</td>\n",
       "      <td>17888.279297</td>\n",
       "      <td>97760000</td>\n",
       "      <td>17888.279297</td>\n",
       "      <td>-40.070312</td>\n",
       "    </tr>\n",
       "    <tr>\n",
       "      <th>17</th>\n",
       "      <td>2016-11-07</td>\n",
       "      <td>17994.640625</td>\n",
       "      <td>18263.300781</td>\n",
       "      <td>17994.640625</td>\n",
       "      <td>18259.599609</td>\n",
       "      <td>93450000</td>\n",
       "      <td>18259.599609</td>\n",
       "      <td>264.958984</td>\n",
       "    </tr>\n",
       "    <tr>\n",
       "      <th>16</th>\n",
       "      <td>2016-11-08</td>\n",
       "      <td>18251.380859</td>\n",
       "      <td>18400.500000</td>\n",
       "      <td>18200.750000</td>\n",
       "      <td>18332.740234</td>\n",
       "      <td>79820000</td>\n",
       "      <td>18332.740234</td>\n",
       "      <td>81.359375</td>\n",
       "    </tr>\n",
       "  </tbody>\n",
       "</table>\n",
       "</div>"
      ],
      "text/plain": [
       "          Date          Open          High           Low         Close  \\\n",
       "20  2016-11-02  18017.720703  18044.150391  17931.890625  17959.640625   \n",
       "19  2016-11-03  17978.750000  18006.960938  17904.070312  17930.669922   \n",
       "18  2016-11-04  17928.349609  17986.759766  17883.560547  17888.279297   \n",
       "17  2016-11-07  17994.640625  18263.300781  17994.640625  18259.599609   \n",
       "16  2016-11-08  18251.380859  18400.500000  18200.750000  18332.740234   \n",
       "\n",
       "      Volume     Adj Close        gain  \n",
       "20  88610000  17959.640625  -58.080078  \n",
       "19  77860000  17930.669922  -48.080078  \n",
       "18  97760000  17888.279297  -40.070312  \n",
       "17  93450000  18259.599609  264.958984  \n",
       "16  79820000  18332.740234   81.359375  "
      ]
     },
     "execution_count": 1,
     "metadata": {},
     "output_type": "execute_result"
    }
   ],
   "source": [
    "import sys\n",
    "import pandas as pd\n",
    "import numpy as np\n",
    "import matplotlib.pyplot as plt\n",
    "import seaborn as sns\n",
    "sns.set(color_codes=True)\n",
    "\n",
    "%matplotlib inline\n",
    "\n",
    "# Working with Conda env sencast.py34. Verify.\n",
    "print(sys.executable)\n",
    "\n",
    "Ticker = pd.read_csv('data/dowjones/table.csv')\n",
    "Ticker = Ticker.sort_values(by='Date', ascending=[True])\n",
    "\n",
    "Ticker['gain'] = Ticker['Close'] - Ticker['Open']\n",
    "Ticker.head()"
   ]
  },
  {
   "cell_type": "markdown",
   "metadata": {},
   "source": [
    "## Twitter Search API"
   ]
  },
  {
   "cell_type": "markdown",
   "metadata": {},
   "source": [
    "Using Twitter search API.\n",
    "\n",
    "```python\n",
    "import json\n",
    "import tweepy\n",
    "from tweepy import OAuthHandler\n",
    "\n",
    "consumer_key = '...'\n",
    "consumer_secret = '...'\n",
    "access_token = '...'\n",
    "access_secret = '...'\n",
    " \n",
    "auth = OAuthHandler(consumer_key, consumer_secret)\n",
    "auth.set_access_token(access_token, access_secret) \n",
    "api = tweepy.API(auth)\n",
    "\n",
    "d = []\n",
    "with open('tweets.json', 'w') as outfile:\n",
    "    for tweet in tweepy.Cursor(api.search,q='%23dowjones',since='2016-11-23',until='2016-11-24').items():\n",
    "        d.append(tweet._json)\n",
    "    json.dump(d, outfile, sort_keys=True, indent=4, ensure_ascii=True)\n",
    "```"
   ]
  },
  {
   "cell_type": "markdown",
   "metadata": {},
   "source": [
    "## Simple Approach for Sentiment Analysis"
   ]
  },
  {
   "cell_type": "code",
   "execution_count": 5,
   "metadata": {
    "collapsed": false,
    "scrolled": true
   },
   "outputs": [
    {
     "name": "stdout",
     "output_type": "stream",
     "text": [
      "          Date        gain   d1       simple    sc1\n",
      "20  2016-11-02  -58.080078 -1.0   166.060717  False\n",
      "19  2016-11-03  -48.080078 -1.0   404.780957  False\n",
      "18  2016-11-04  -40.070312 -1.0   638.268249  False\n",
      "17  2016-11-07  264.958984  1.0   341.378936   True\n",
      "16  2016-11-08   81.359375  1.0  1115.193898   True\n",
      "15  2016-11-09  272.429687  1.0  3176.102345   True\n",
      "14  2016-11-10  204.740234  1.0   133.272472   True\n",
      "13  2016-11-11   66.009765  1.0   247.038761   True\n",
      "12  2016-11-14   -8.080078 -1.0   272.724391  False\n",
      "11  2016-11-15   64.849609  1.0   962.345663   True\n",
      "10  2016-11-16  -41.708984 -1.0   790.117311  False\n",
      "9   2016-11-17   37.599609  1.0   397.586906   True\n",
      "8   2016-11-18  -37.400390 -1.0    34.941611  False\n",
      "7   2016-11-21   58.009765  1.0    -1.104000  False\n",
      "6   2016-11-22   53.478516  1.0  1202.734479   True\n",
      "5   2016-11-23   67.660157  1.0   231.070613   True\n",
      "4   2016-11-25   58.419922  1.0   161.294869   True\n",
      "3   2016-11-28  -24.240234 -1.0   142.067622  False\n",
      "2   2016-11-29   57.529297  1.0   107.123092   True\n",
      "1   2016-11-30  -12.060547 -1.0   511.229361  False\n",
      "0   2016-12-01   42.730469  1.0   522.645770   True\n"
     ]
    }
   ],
   "source": [
    "import opinion\n",
    "import operator \n",
    "import json\n",
    "import math\n",
    "import re\n",
    "import string\n",
    "from collections import Counter\n",
    "from nltk.corpus import stopwords\n",
    "\n",
    "punctuation = list(string.punctuation)\n",
    "stop = stopwords.words('english') + punctuation + ['rt', 'via']\n",
    "\n",
    "emoticons_str = r\"\"\"\n",
    "    (?:\n",
    "        [:=;] # Eyes\n",
    "        [oO\\-]? # Nose (optional)\n",
    "        [D\\)\\]\\(\\]/\\\\OpP] # Mouth\n",
    "    )\"\"\"\n",
    " \n",
    "regex_str = [\n",
    "    emoticons_str,\n",
    "    r'<[^>]+>', # HTML tags\n",
    "    r'(?:@[\\w_]+)', # @-mentions\n",
    "    r\"(?:\\#+[\\w_]+[\\w\\'_\\-]*[\\w_]+)\", # hash-tags\n",
    "    r'http[s]?://(?:[a-z]|[0-9]|[$-_@.&amp;+]|[!*\\(\\),]|(?:%[0-9a-f][0-9a-f]))+', # URLs\n",
    " \n",
    "    r'(?:(?:\\d+,?)+(?:\\.?\\d+)?)', # numbers\n",
    "    r\"(?:[a-z][a-z'\\-_]+[a-z])\", # words with - and '\n",
    "    r'(?:[\\w_]+)', # other words\n",
    "    r'(?:\\S)' # anything else\n",
    "]\n",
    "    \n",
    "tokens_re = re.compile(r'('+'|'.join(regex_str)+')', re.VERBOSE | re.IGNORECASE)\n",
    "emoticon_re = re.compile(r'^'+emoticons_str+'$', re.VERBOSE | re.IGNORECASE)\n",
    " \n",
    "def tokenize(s):\n",
    "    return tokens_re.findall(s)\n",
    " \n",
    "# preserve tokens\n",
    "# lowercase if text\n",
    "def preprocess(s, lowercase=True):\n",
    "    tokens = tokenize(s)\n",
    "    if lowercase:\n",
    "        tokens = [token if emoticon_re.search(token) else token.lower() for token in tokens]\n",
    "    return tokens\n",
    "\n",
    "from collections import defaultdict\n",
    "from collections import namedtuple\n",
    "\n",
    "def get_counters(file):\n",
    "    # co-occurence matrix\n",
    "    com = defaultdict(lambda : defaultdict(int))\n",
    "    count_only_single = Counter()\n",
    "    counters = namedtuple('Counters', ['com', 'count_only_single'])\n",
    "    with open(file) as data_file:    \n",
    "        data = json.load(data_file)\n",
    "    \n",
    "        for tweet in data:\n",
    "\n",
    "            # Preprocess tweets and filter stop words\n",
    "            terms_only = [term for term in preprocess(tweet['text']) \n",
    "                          if term not in stop\n",
    "                          and not term.startswith(('#', '@', 'https:'))] \n",
    "\n",
    "            terms_only_single = set(terms_only)\n",
    "\n",
    "            # Build co-occurrence matrix\n",
    "            for i in range(len(terms_only)-1):            \n",
    "                for j in range(i+1, len(terms_only)):\n",
    "                    w1, w2 = sorted([terms_only[i], terms_only[j]])                \n",
    "                    if w1 != w2:\n",
    "                        com[w1][w2] += 1\n",
    "\n",
    "            # Update the counter\n",
    "            count_only_single.update(terms_only_single)\n",
    "        cnt = counters(com, count_only_single)\n",
    "            \n",
    "    return cnt\n",
    "\n",
    "def get_pmi(cnt):\n",
    "    com = cnt.com\n",
    "    count_only_single = cnt.count_only_single\n",
    "    pmipt = namedtuple('Pmipt', ['pmi','p_t'])\n",
    "    p_t = {}\n",
    "    p_t_com = defaultdict(lambda : defaultdict(int))\n",
    "\n",
    "    n_docs = sum(count_only_single.values())\n",
    "\n",
    "    for term, n in count_only_single.items():\n",
    "        p_t[term] = n / float(n_docs)\n",
    "        for t2 in com[term]:\n",
    "            p_t_com[term][t2] = com[term][t2] / float(n_docs)\n",
    "\n",
    "    pmi = defaultdict(lambda : defaultdict(int))\n",
    "\n",
    "    for t1 in p_t:\n",
    "        for t2 in com[t1]:\n",
    "            denom = p_t[t1] * p_t[t2]\n",
    "            pmi[t1][t2] = math.log(p_t_com[t1][t2] / denom, 2)\n",
    "    pt = pmipt(pmi, p_t)\n",
    "    return pt\n",
    "\n",
    "def get_orientation(pt):\n",
    "    pmi = pt.pmi\n",
    "    p_t = pt.p_t\n",
    "    semantic_orientation = {}\n",
    "    \n",
    "    for term, n in p_t.items():\n",
    "        positive_assoc = sum(pmi[term][tx] for tx in opinion.positive_words)\n",
    "        negative_assoc = sum(pmi[term][tx] for tx in opinion.negative_words)\n",
    "        semantic_orientation[term] = positive_assoc - negative_assoc\n",
    "    \n",
    "    return sum(semantic_orientation.values())\n",
    "\n",
    "orientations = []\n",
    "for date in Ticker['Date']:\n",
    "    orientations.append(get_orientation(get_pmi(get_counters('./data/dowjones/tweets.searchapi.' + date + '.json'))))\n",
    "\n",
    "Ticker['simple'] = orientations\n",
    "Ticker['d1'] = np.sign(Ticker['gain'])\n",
    "Ticker['sc1'] = Ticker['d1'] == np.sign(Ticker['simple'])\n",
    "score = Ticker['sc1'].value_counts()\n",
    "print(Ticker[['Date','gain','d1','simple','sc1']])"
   ]
  },
  {
   "cell_type": "markdown",
   "metadata": {
    "collapsed": true
   },
   "source": [
    "## Supervised Learning Approach for Sentiment Analysis"
   ]
  },
  {
   "cell_type": "markdown",
   "metadata": {},
   "source": [
    "### Acquisition of Sanders Corpus"
   ]
  },
  {
   "cell_type": "code",
   "execution_count": 6,
   "metadata": {
    "collapsed": false
   },
   "outputs": [
    {
     "name": "stdout",
     "output_type": "stream",
     "text": [
      "*** Sanders corpus ***\n",
      "irrelevant: 1477\n",
      "negative: 482\n",
      "neutral: 2049\n",
      "positive: 429\n"
     ]
    }
   ],
   "source": [
    "Tweets = pd.read_csv('./data/sanders/full-corpus.csv')\n",
    "    \n",
    "tweets = Tweets['TweetText']\n",
    "labels = Tweets['Sentiment']\n",
    "\n",
    "classes = np.unique(labels)\n",
    "print(\"*** Sanders corpus ***\")\n",
    "for c in classes: print(\"%s: %i\" % (c, sum(labels==c)))"
   ]
  },
  {
   "cell_type": "markdown",
   "metadata": {},
   "source": [
    "### First assessment using several classifiers\n",
    "\n"
   ]
  },
  {
   "cell_type": "code",
   "execution_count": 7,
   "metadata": {
    "collapsed": false
   },
   "outputs": [
    {
     "name": "stdout",
     "output_type": "stream",
     "text": [
      "\n",
      "F1 scores by class:    ['irrelevant' 'negative' 'neutral' 'positive']\n",
      "F1 SVC(kernel=rbf):    [ 0.          0.          0.63174114  0.        ] (train: 1.196775sec predict: 0.257003sec)\n",
      "F1 SVC(kernel=linear): [ 0.88536155  0.51351351  0.79787234  0.31404959] (train: 0.903009sec predict: 0.161690sec)\n",
      "F1 LinearSVC():        [ 0.87804878  0.52229299  0.78747204  0.42384106] (train: 0.034211sec predict: 0.000203sec)\n",
      "F1 DecisionTree():     [ 0.78756477  0.3583815   0.71759259  0.3375    ] (train: 3.102681sec predict: 0.012939sec)\n",
      "F1 GaussianNB():       [ 0.84363636  0.4953271   0.66844208  0.36781609] (train: 0.253731sec predict: 0.115028sec)\n",
      "F1 MultinomialNB():    [ 0.87477314  0.5398773   0.77813505  0.31007752] (train: 0.123770sec predict: 0.006018sec)\n",
      "F1 BernoulliNB():      [ 0.86643836  0.54545455  0.7497006   0.40251572] (train: 0.165249sec predict: 0.031579sec)\n"
     ]
    },
    {
     "name": "stderr",
     "output_type": "stream",
     "text": [
      "/Users/chrisg/opt/anaconda2/envs/sencast.py27/lib/python2.7/site-packages/sklearn/metrics/classification.py:1074: UndefinedMetricWarning: F-score is ill-defined and being set to 0.0 in labels with no predicted samples.\n",
      "  'precision', 'predicted', average, warn_for)\n"
     ]
    }
   ],
   "source": [
    "import os\n",
    "import time\n",
    "from sklearn.feature_extraction.text import TfidfVectorizer\n",
    "from sklearn.metrics import classification_report, f1_score\n",
    "from sklearn import cross_validation\n",
    "\n",
    "def processTweet(tweet):\n",
    "    # process the tweets\n",
    "    #Convert to lower case\n",
    "    tweet = tweet.lower()\n",
    "    #print(tweet)\n",
    "    #Convert www.* or https?://* to URL\n",
    "    tweet = re.sub('((www\\.[^\\s]+)|(https?://[^\\s]+))','URL',tweet)\n",
    "    #Convert @username to AT_USER\n",
    "    tweet = re.sub('@[^\\s]+','AT_USER',tweet)\n",
    "    #Remove additional white spaces\n",
    "    tweet = re.sub('[\\s]+', ' ', tweet)\n",
    "    #Replace #word with word\n",
    "    tweet = re.sub(r'#([^\\s]+)', r'\\1', tweet)\n",
    "    #trim\n",
    "    tweet = tweet.strip('\\'\"')\n",
    "    return tweet\n",
    "    \n",
    "    \n",
    "seed = 1234\n",
    "tweets = tweets.apply(processTweet)\n",
    "train_data, test_data, train_labels, test_labels = cross_validation.train_test_split(tweets,labels,\n",
    "                                                                         train_size=0.8,\n",
    "                                                                         stratify=labels,\n",
    "                                                                         random_state=seed)\n",
    "                \n",
    "# Apply Tf-Idf transformation                \n",
    "vectorizer = TfidfVectorizer(min_df= 2, max_df = 0.9, sublinear_tf=True, use_idf=True)\n",
    "train_vectors = vectorizer.fit_transform(train_data)\n",
    "test_vectors = vectorizer.transform(test_data)\n",
    "\n",
    "# Use decorators to time training and prediction\n",
    "def timeTr(f):\n",
    "    def new_f(clf,data,labels):\n",
    "        t0 = time.time()\n",
    "        f(clf,data,labels)\n",
    "        t1 = time.time()\n",
    "        return t1-t0\n",
    "    return new_f\n",
    "\n",
    "def timePr(f):\n",
    "    def new_f(clf,data):\n",
    "        t0 = time.time()\n",
    "        pred = f(clf,data)\n",
    "        t1 = time.time()\n",
    "        return (t1-t0, pred)\n",
    "    return new_f\n",
    "\n",
    "@timeTr\n",
    "def trainer(clf,data,labels):\n",
    "    clf.fit(data,labels)\n",
    "\n",
    "@timePr\n",
    "def predictor(clf,data):\n",
    "    pred = clf.predict(data)\n",
    "    return pred\n",
    "    \n",
    "# Try SVM\n",
    "from sklearn import svm\n",
    "\n",
    "classifier_rbf = svm.SVC()\n",
    "time_rbf_train = trainer(classifier_rbf,train_vectors,train_labels)\n",
    "time_rbf_predict, prediction_rbf = predictor(classifier_rbf,test_vectors)\n",
    "\n",
    "classifier_linear = svm.SVC(kernel='linear')\n",
    "time_linear_train = trainer(classifier_linear,train_vectors, train_labels)\n",
    "time_linear_predict, prediction_linear = predictor(classifier_linear, test_vectors)\n",
    "\n",
    "classifier_liblinear = svm.LinearSVC()\n",
    "time_liblinear_train = trainer(classifier_liblinear,train_vectors, train_labels)\n",
    "time_liblinear_predict, prediction_liblinear = predictor(classifier_liblinear, test_vectors)\n",
    "\n",
    "# train vectors are of type <class 'scipy.sparse.csr.csr_matrix'>\n",
    "# Convert to nparray\n",
    "train_vectors_nparray = train_vectors.toarray()\n",
    "test_vectors_nparray = test_vectors.toarray()\n",
    "    \n",
    "# Try DecisionTree\n",
    "from sklearn import tree\n",
    "\n",
    "classifier_dt = tree.DecisionTreeClassifier(random_state=0)\n",
    "time_dt_train = trainer(classifier_dt,train_vectors_nparray, train_labels)\n",
    "time_dt_predict, prediction_dt = predictor(classifier_dt, test_vectors_nparray)\n",
    "    \n",
    "# Try Naive Bayes    \n",
    "from sklearn.naive_bayes import GaussianNB\n",
    "from sklearn.naive_bayes import MultinomialNB\n",
    "from sklearn.naive_bayes import BernoulliNB\n",
    "\n",
    "classifier_nb = GaussianNB()\n",
    "time_nb_train = trainer(classifier_nb,train_vectors_nparray, train_labels)\n",
    "time_nb_predict, prediction_nb = predictor(classifier_nb, test_vectors_nparray)\n",
    "\n",
    "classifier_mn = MultinomialNB(alpha=0.01, fit_prior=True)\n",
    "time_mn_train = trainer(classifier_mn,train_vectors_nparray, train_labels)\n",
    "time_mn_predict, prediction_mn = predictor(classifier_mn, test_vectors_nparray)\n",
    "\n",
    "classifier_bn = BernoulliNB(alpha=0.01, fit_prior=True)\n",
    "time_bn_train = trainer(classifier_bn,train_vectors_nparray, train_labels)\n",
    "time_bn_predict, prediction_bn = predictor(classifier_bn, test_vectors_nparray)\n",
    "\n",
    "# Print results in a nice table\n",
    "print\n",
    "print(\"F1 scores by class:    %s\" % classes)\n",
    "    \n",
    "print(\"F1 SVC(kernel=rbf):    %s (train: %fsec predict: %fsec)\" % \n",
    "        (f1_score(test_labels, prediction_rbf, average=None), \n",
    "         time_rbf_train, time_rbf_predict))\n",
    "    \n",
    "print(\"F1 SVC(kernel=linear): %s (train: %fsec predict: %fsec)\" % \n",
    "        (f1_score(test_labels, prediction_linear, average=None), \n",
    "         time_linear_train, time_linear_predict))\n",
    "    \n",
    "print(\"F1 LinearSVC():        %s (train: %fsec predict: %fsec)\" % \n",
    "        (f1_score(test_labels, prediction_liblinear, average=None), \n",
    "         time_liblinear_train, time_liblinear_predict))\n",
    "    \n",
    "print(\"F1 DecisionTree():     %s (train: %fsec predict: %fsec)\" % \n",
    "        (f1_score(test_labels, prediction_dt, average=None), \n",
    "         time_dt_train, time_dt_predict))\n",
    "    \n",
    "print(\"F1 GaussianNB():       %s (train: %fsec predict: %fsec)\" % \n",
    "        (f1_score(test_labels, prediction_nb, average=None), \n",
    "         time_nb_train, time_nb_predict))\n",
    "\n",
    "print(\"F1 MultinomialNB():    %s (train: %fsec predict: %fsec)\" % \n",
    "        (f1_score(test_labels, prediction_mn, average=None), \n",
    "         time_mn_train, time_mn_predict))\n",
    "\n",
    "print(\"F1 BernoulliNB():      %s (train: %fsec predict: %fsec)\" % \n",
    "        (f1_score(test_labels, prediction_bn, average=None), \n",
    "         time_bn_train, time_bn_predict))"
   ]
  },
  {
   "cell_type": "markdown",
   "metadata": {},
   "source": [
    "### Positive vs. Negative"
   ]
  },
  {
   "cell_type": "code",
   "execution_count": 10,
   "metadata": {
    "collapsed": false
   },
   "outputs": [
    {
     "name": "stdout",
     "output_type": "stream",
     "text": [
      "\n",
      "*** Results for MultinomialNB() ***\n",
      "\n",
      "Accuracy: 0.781420765027  (fraction of correctly classified samples)\n",
      "\n",
      "Classification report:\n",
      "             precision    recall  f1-score   support\n",
      "\n",
      "   negative       0.79      0.80      0.80        97\n",
      "   positive       0.77      0.76      0.76        86\n",
      "\n",
      "avg / total       0.78      0.78      0.78       183\n",
      "\n",
      "\n",
      "P/R curve (precision/recall) with AUC=0.849935530908 (area under curve = average precision):\n"
     ]
    },
    {
     "data": {
      "image/png": "[encoded data removed]",
      "text/plain": [
       "<matplotlib.figure.Figure at 0x1185c5290>"
      ]
     },
     "metadata": {},
     "output_type": "display_data"
    }
   ],
   "source": [
    "from sklearn.metrics import precision_recall_curve, auc\n",
    "\n",
    "# Find all pos and neg labels by index\n",
    "pos_neg_idx = np.logical_or(labels==\"positive\", labels==\"negative\")\n",
    "\n",
    "# Select only pos and neg tweets\n",
    "tweets_posneg = tweets[pos_neg_idx]\n",
    "labels_posneg = labels[pos_neg_idx]\n",
    "\n",
    "train_data_pn, test_data_pn, train_labels_pn, test_labels_pn = cross_validation.train_test_split(tweets_posneg,\n",
    "                                                                                     labels_posneg,\n",
    "                                                                                     train_size=0.8,\n",
    "                                                                                     stratify=labels_posneg,\n",
    "                                                                                     random_state=seed)\n",
    "                    \n",
    "                    \n",
    "# Apply Tf-Idf vectorization\n",
    "train_vectors_pn = vectorizer.transform(train_data_pn)\n",
    "test_vectors_pn = vectorizer.transform(test_data_pn)\n",
    "\n",
    "# Convert to nparray\n",
    "train_vectors_pn_nparray = train_vectors_pn.toarray()\n",
    "test_vectors_pn_nparray = test_vectors_pn.toarray()\n",
    "\n",
    "# Train MultinomialNB()\n",
    "print(\"\\n*** Results for MultinomialNB() ***\")\n",
    "classifier_mn.fit(train_vectors_pn_nparray, train_labels_pn)\n",
    "prediction_mn = classifier_mn.predict(test_vectors_pn_nparray)\n",
    "score_mn = classifier_mn.score(test_vectors_pn_nparray, test_labels_pn)\n",
    "print(\"\\nAccuracy: %s  (fraction of correctly classified samples)\" % score_mn)\n",
    "print(\"\\nClassification report:\")\n",
    "print(classification_report(test_labels_pn, prediction_mn))\n",
    "\n",
    "# Plot Precision/Recall curve for MultinomialNB()\n",
    "proba_mn = classifier_mn.predict_proba(test_vectors_pn_nparray)\n",
    "precision, recall, _ = precision_recall_curve(test_labels_pn, proba_mn[:,1],pos_label=\"positive\")\n",
    "auc_mn = auc(recall, precision)\n",
    "\n",
    "precision_s = pd.Series(precision,name='Precision')\n",
    "recall_s = pd.Series(recall,name='Recall')\n",
    "print(\"\\nP/R curve (precision/recall) with AUC=%s (area under curve = average precision):\" % auc_mn)\n",
    "regplot = sns.regplot(x=recall_s,y=precision_s,fit_reg=False)\n",
    "plt.savefig(\"fig1.png\")"
   ]
  },
  {
   "cell_type": "markdown",
   "metadata": {},
   "source": [
    "### Positive vs. Negative Crossvalidation"
   ]
  },
  {
   "cell_type": "code",
   "execution_count": 11,
   "metadata": {
    "collapsed": false
   },
   "outputs": [
    {
     "name": "stdout",
     "output_type": "stream",
     "text": [
      "acc = accuracy (fraction of correctly classified samples)\n",
      "auc = area under curve (average precision)\n",
      "\n",
      "acc             auc\n",
      "mean    std     mean    std\n",
      "0.781\t0.000\t0.864\t0.000\n",
      "0.792\t0.011\t0.873\t0.009\n",
      "0.775\t0.026\t0.870\t0.009\n",
      "0.775\t0.023\t0.867\t0.009\n",
      "0.786\t0.030\t0.874\t0.016\n",
      "0.784\t0.028\t0.866\t0.024\n",
      "0.783\t0.026\t0.869\t0.023\n",
      "0.785\t0.025\t0.875\t0.027\n",
      "0.785\t0.023\t0.876\t0.025\n",
      "0.781\t0.026\t0.872\t0.026\n",
      "\n",
      "*** Positive vs. Negative MultinomialNB() ***\n",
      "Final mean acc: 0.780821917808\n",
      "Final mean auc: 0.872453456064\n"
     ]
    },
    {
     "data": {
      "image/png": "[encoded data removed]",
      "text/plain": [
       "<matplotlib.figure.Figure at 0x11b77c710>"
      ]
     },
     "metadata": {},
     "output_type": "display_data"
    }
   ],
   "source": [
    "from sklearn.pipeline import Pipeline\n",
    "from sklearn.metrics import precision_recall_curve, auc\n",
    "from sklearn.cross_validation import ShuffleSplit\n",
    "\n",
    "emo_repl = {\n",
    "    # positive emoticons\n",
    "    \"&lt;3\": \" good \",\n",
    "    \":d\": \" good \", # :D in lower case\n",
    "    \":dd\": \" good \", # :DD in lower case\n",
    "    \"8)\": \" good \",\n",
    "    \":-)\": \" good \",\n",
    "    \":)\": \" good \",\n",
    "    \";)\": \" good \",\n",
    "    \"(-:\": \" good \",\n",
    "    \"(:\": \" good \",\n",
    "    # negative emoticons:\n",
    "    \":/\": \" bad \",\n",
    "    \":&gt;\": \" sad \",\n",
    "    \":')\": \" sad \",\n",
    "    \":-(\": \" bad \",\n",
    "    \":(\": \" bad \",\n",
    "    \":S\": \" bad \",\n",
    "    \":-S\": \" bad \",\n",
    "    }\n",
    "# make sure that e.g. :dd is replaced before :d\n",
    "emo_repl_order = [k for (k_len,k) in reversed(sorted([(len(k),k) for k in emo_repl.keys()]))]\n",
    "\n",
    "re_repl = {\n",
    "    r\"\\br\\b\": \"are\",\n",
    "    r\"\\bu\\b\": \"you\",\n",
    "    r\"\\bhaha\\b\": \"ha\",\n",
    "    r\"\\bhahaha\\b\": \"ha\",\n",
    "    r\"\\bdon't\\b\": \"do not\",\n",
    "    r\"\\bdoesn't\\b\": \"does not\",\n",
    "    r\"\\bdidn't\\b\": \"did not\",\n",
    "    r\"\\bhasn't\\b\": \"has not\",\n",
    "    r\"\\bhaven't\\b\": \"have not\",\n",
    "    r\"\\bhadn't\\b\": \"had not\",\n",
    "    r\"\\bwon't\\b\": \"will not\",\n",
    "    r\"\\bwouldn't\\b\": \"would not\",\n",
    "    r\"\\bcan't\\b\": \"can not\",\n",
    "    r\"\\bcannot\\b\": \"can not\",\n",
    "}\n",
    "\n",
    "def preprocessor(tweet):\n",
    "    tweet = tweet.lower()\n",
    "    for k in emo_repl_order:\n",
    "        tweet = tweet.replace(k, emo_repl[k])\n",
    "    for r, repl in re_repl.items():\n",
    "        tweet = re.sub(r, repl, tweet)\n",
    "    return tweet\n",
    "\n",
    "def create_ngram_model():\n",
    "        \n",
    "    tfidf_ngrams = TfidfVectorizer(preprocessor=preprocessor,\n",
    "                                   ngram_range=(1,3),\n",
    "                                   analyzer=\"word\",\n",
    "                                   binary=False)\n",
    "    \n",
    "    clf = MultinomialNB()\n",
    "    return Pipeline([('vect', tfidf_ngrams), ('clf', clf)])\n",
    "\n",
    "def create_ngram_linear_model():\n",
    "    tfidf_ngrams = TfidfVectorizer(ngram_range=(1,3),\n",
    "                                  analyzer=\"word\",\n",
    "                                  binary=False)\n",
    "    \n",
    "    clf = svm.LinearSVC()\n",
    "    return Pipeline([('vect', tfidf_ngrams), ('clf', clf)])\n",
    "\n",
    "def train_model(clf_factory, X, Y, getproba=True, plotpr=False):\n",
    "    \n",
    "    cv = ShuffleSplit(n=len(X), n_iter=10, test_size=0.3, random_state=seed)\n",
    "    \n",
    "    scores = []\n",
    "    pr_scores = []\n",
    "    \n",
    "    for train, test in cv:\n",
    "        X_train, y_train = X[train], Y[train]\n",
    "        X_test, y_test = X[test], Y[test]\n",
    "        \n",
    "        clf = clf_factory()\n",
    "        clf.fit(X_train, y_train)\n",
    "        \n",
    "        train_score = clf.score(X_train, y_train)\n",
    "        test_score = clf.score(X_test, y_test)\n",
    "        \n",
    "        scores.append(test_score)\n",
    "        \n",
    "        if getproba == True:\n",
    "            proba = clf.predict_proba(X_test)\n",
    "            precision, recall, pr_thresholds = precision_recall_curve(y_test, proba[:,1])\n",
    "            pr_scores.append(auc(recall, precision))\n",
    "        \n",
    "            summary = (np.mean(scores), np.std(scores), np.mean(pr_scores), np.std(pr_scores))\n",
    "            print(\"%.3f\\t%.3f\\t%.3f\\t%.3f\" % summary)\n",
    "            \n",
    "            if plotpr == True:\n",
    "                precision_s = pd.Series(precision,name='Precision')\n",
    "                recall_s = pd.Series(recall,name='Recall')\n",
    "                _ = sns.regplot(x=recall_s,y=precision_s,fit_reg=False)\n",
    "                plt.savefig(\"fig2.png\")\n",
    "            \n",
    "        else:\n",
    "        \n",
    "            summary = (np.mean(scores), np.std(scores))\n",
    "            print(\"%.3f\\t%.3f\" % summary)\n",
    "        \n",
    "    return scores, pr_scores\n",
    "        \n",
    "# Make binary labels\n",
    "d = {'positive': True, 'negative': False}\n",
    "train_labels_pn_binary = train_labels_pn.map(d)\n",
    "\n",
    "# Use continuous index or it'll break in train_model().\n",
    "train_data_pn.index = np.arange(0,len(train_data_pn))\n",
    "train_labels_pn_binary.index = np.arange(0,len(train_labels_pn_binary))\n",
    "\n",
    "print(\"acc = accuracy (fraction of correctly classified samples)\")\n",
    "print(\"auc = area under curve (average precision)\")\n",
    "\n",
    "print\n",
    "print(\"acc             auc\")\n",
    "print(\"mean    std     mean    std\")\n",
    "scores, pr_scores = train_model(create_ngram_model, train_data_pn, train_labels_pn_binary, plotpr=True)\n",
    "print(\"\\n*** Positive vs. Negative MultinomialNB() ***\")\n",
    "print(\"Final mean acc: %s\" % np.mean(scores))\n",
    "print(\"Final mean auc: %s\" % np.mean(pr_scores))"
   ]
  },
  {
   "cell_type": "markdown",
   "metadata": {},
   "source": [
    "### Positive/Negative vs. Irrelevant/Neutral Crossvalidation"
   ]
  },
  {
   "cell_type": "code",
   "execution_count": 12,
   "metadata": {
    "collapsed": false
   },
   "outputs": [
    {
     "name": "stdout",
     "output_type": "stream",
     "text": [
      "0.804\t0.000\t0.600\t0.000\n",
      "0.792\t0.011\t0.625\t0.025\n",
      "0.796\t0.010\t0.633\t0.024\n",
      "0.796\t0.009\t0.632\t0.021\n",
      "0.797\t0.008\t0.626\t0.022\n",
      "0.797\t0.008\t0.625\t0.021\n",
      "0.797\t0.007\t0.626\t0.019\n",
      "0.796\t0.007\t0.621\t0.022\n",
      "0.797\t0.007\t0.623\t0.022\n",
      "0.797\t0.007\t0.626\t0.023\n",
      "\n",
      "*** Positive/Negative vs. Irrelevant/Neutral ***\n",
      "Final mean acc: 0.797370892019\n",
      "Final mean auc: 0.626440740388\n"
     ]
    },
    {
     "data": {
      "image/png": "[encoded data removed]",
      "text/plain": [
       "<matplotlib.figure.Figure at 0x1067d5050>"
      ]
     },
     "metadata": {},
     "output_type": "display_data"
    }
   ],
   "source": [
    "# Look at pos/neg against irrelevant/neutral\n",
    "d = {'positive': True, 'negative': True, 'irrelevant': False, 'neutral': False}\n",
    "train_labels_tweak_binary = train_labels.map(d)\n",
    "\n",
    "# Use continuous index\n",
    "train_data.index = np.arange(0,len(train_data))\n",
    "train_labels_tweak_binary.index = np.arange(0,len(train_labels_tweak_binary))\n",
    "\n",
    "scores, pr_scores = train_model(create_ngram_model, train_data, train_labels_tweak_binary, plotpr=True)\n",
    "print(\"\\n*** Positive/Negative vs. Irrelevant/Neutral ***\")\n",
    "print(\"Final mean acc: %s\" % np.mean(scores))\n",
    "print(\"Final mean auc: %s\" % np.mean(pr_scores))"
   ]
  },
  {
   "cell_type": "markdown",
   "metadata": {},
   "source": [
    "### Positive vs. Rest Crossvalidation"
   ]
  },
  {
   "cell_type": "code",
   "execution_count": 13,
   "metadata": {
    "collapsed": false
   },
   "outputs": [
    {
     "name": "stdout",
     "output_type": "stream",
     "text": [
      "0.898\t0.000\t0.208\t0.000\n",
      "0.895\t0.003\t0.252\t0.044\n",
      "0.896\t0.003\t0.267\t0.041\n",
      "0.899\t0.005\t0.270\t0.036\n",
      "0.897\t0.005\t0.261\t0.037\n",
      "0.898\t0.005\t0.262\t0.033\n",
      "0.900\t0.007\t0.269\t0.035\n",
      "0.900\t0.006\t0.269\t0.033\n",
      "0.900\t0.006\t0.267\t0.032\n",
      "0.900\t0.006\t0.268\t0.030\n",
      "\n",
      "*** Positive vs. Rest ***\n",
      "Final mean acc: 0.900281690141\n",
      "Final mean auc: 0.268437375961\n"
     ]
    },
    {
     "data": {
      "image/png": "[encoded data removed]",
      "text/plain": [
       "<matplotlib.figure.Figure at 0x1067f64d0>"
      ]
     },
     "metadata": {},
     "output_type": "display_data"
    }
   ],
   "source": [
    "# Look at pos against neg/irrelevant/neutral\n",
    "d = {'positive': True, 'negative': False, 'irrelevant': False, 'neutral': False}\n",
    "train_labels_tweak_binary = train_labels.map(d)\n",
    "\n",
    "# Use continuous index\n",
    "train_labels_tweak_binary.index = np.arange(0,len(train_labels_tweak_binary))\n",
    "\n",
    "scores, pr_scores = train_model(create_ngram_model, train_data, train_labels_tweak_binary, plotpr=True)\n",
    "print(\"\\n*** Positive vs. Rest ***\")\n",
    "print(\"Final mean acc: %s\" % np.mean(scores))\n",
    "print(\"Final mean auc: %s\" % np.mean(pr_scores))"
   ]
  },
  {
   "cell_type": "markdown",
   "metadata": {},
   "source": [
    "### Negative vs. Rest Crossvalidation"
   ]
  },
  {
   "cell_type": "code",
   "execution_count": 14,
   "metadata": {
    "collapsed": false
   },
   "outputs": [
    {
     "name": "stdout",
     "output_type": "stream",
     "text": [
      "0.900\t0.000\t0.416\t0.000\n",
      "0.894\t0.007\t0.398\t0.019\n",
      "0.895\t0.006\t0.396\t0.016\n",
      "0.893\t0.006\t0.384\t0.024\n",
      "0.896\t0.008\t0.405\t0.047\n",
      "0.895\t0.008\t0.400\t0.044\n",
      "0.894\t0.008\t0.398\t0.041\n",
      "0.893\t0.008\t0.392\t0.041\n",
      "0.893\t0.007\t0.398\t0.041\n",
      "0.893\t0.007\t0.400\t0.040\n",
      "\n",
      "*** Negative vs. Rest ***\n",
      "Final mean acc: 0.893051643192\n",
      "Final mean auc: 0.400300827373\n"
     ]
    },
    {
     "data": {
      "image/png": "[encoded data removed]",
      "text/plain": [
       "<matplotlib.figure.Figure at 0x1206e9210>"
      ]
     },
     "metadata": {},
     "output_type": "display_data"
    }
   ],
   "source": [
    "# Look at neg against pos/irrelevant/neutral\n",
    "d = {'positive': False, 'negative': True, 'irrelevant': False, 'neutral': False}\n",
    "train_labels_tweak_binary = train_labels.map(d)\n",
    "\n",
    "# Use continuous index\n",
    "train_labels_tweak_binary.index = np.arange(0,len(train_labels_tweak_binary))\n",
    "\n",
    "scores, pr_scores = train_model(create_ngram_model, train_data, train_labels_tweak_binary, plotpr=True)\n",
    "print(\"\\n*** Negative vs. Rest ***\")\n",
    "print(\"Final mean acc: %s\" % np.mean(scores))\n",
    "print(\"Final mean auc: %s\" % np.mean(pr_scores))"
   ]
  },
  {
   "cell_type": "markdown",
   "metadata": {},
   "source": [
    "### Positive vs. Negative Hyperparameter Training"
   ]
  },
  {
   "cell_type": "code",
   "execution_count": 15,
   "metadata": {
    "collapsed": false
   },
   "outputs": [],
   "source": [
    "from sklearn.grid_search import GridSearchCV\n",
    "from sklearn.metrics import f1_score\n",
    "\n",
    "def grid_search_model(clf_factory, X, Y):\n",
    "    \n",
    "    cv = ShuffleSplit(n=len(X), n_iter=10, test_size=0.3, random_state=0)\n",
    "    \n",
    "    param_grid = dict(vect__ngram_range=[(1,1), (1,2), (1,3)],\n",
    "                      vect__min_df=[1,2],\n",
    "                      vect__stop_words=[None, \"english\"],\n",
    "                      vect__smooth_idf=[False, True],\n",
    "                      vect__use_idf=[False, True],\n",
    "                      vect__sublinear_tf=[False, True],\n",
    "                      vect__binary=[False, True],\n",
    "                      clf__alpha=[0, 0.01, 0.05, 0.1, 1]\n",
    "                     )\n",
    "    \n",
    "    grid_search = GridSearchCV(clf_factory(),\n",
    "                              param_grid=param_grid,\n",
    "                              cv=cv,\n",
    "                              verbose=1,\n",
    "                              )\n",
    "    \n",
    "    grid_search.fit(X, Y)\n",
    "    return grid_search\n",
    "\n",
    "#print(create_ngram_model().get_params().keys())"
   ]
  },
  {
   "cell_type": "code",
   "execution_count": 16,
   "metadata": {
    "collapsed": false
   },
   "outputs": [
    {
     "name": "stdout",
     "output_type": "stream",
     "text": [
      "Fitting 10 folds for each of 960 candidates, totalling 9600 fits\n"
     ]
    },
    {
     "name": "stderr",
     "output_type": "stream",
     "text": [
      "[Parallel(n_jobs=1)]: Done  49 tasks       | elapsed:    3.2s\n",
      "[Parallel(n_jobs=1)]: Done 199 tasks       | elapsed:   14.4s\n",
      "[Parallel(n_jobs=1)]: Done 449 tasks       | elapsed:   40.2s\n",
      "[Parallel(n_jobs=1)]: Done 799 tasks       | elapsed:  1.1min\n",
      "[Parallel(n_jobs=1)]: Done 1249 tasks       | elapsed:  1.8min\n",
      "[Parallel(n_jobs=1)]: Done 1799 tasks       | elapsed:  2.7min\n",
      "[Parallel(n_jobs=1)]: Done 2449 tasks       | elapsed:  3.6min\n",
      "[Parallel(n_jobs=1)]: Done 3199 tasks       | elapsed:  4.7min\n",
      "[Parallel(n_jobs=1)]: Done 4049 tasks       | elapsed:  6.0min\n",
      "[Parallel(n_jobs=1)]: Done 4999 tasks       | elapsed:  7.4min\n",
      "[Parallel(n_jobs=1)]: Done 6049 tasks       | elapsed:  9.0min\n",
      "[Parallel(n_jobs=1)]: Done 7199 tasks       | elapsed: 10.8min\n",
      "[Parallel(n_jobs=1)]: Done 8449 tasks       | elapsed: 12.6min\n"
     ]
    },
    {
     "name": "stdout",
     "output_type": "stream",
     "text": [
      "\n",
      "*** Best estimator ***\n",
      "score: 0.809132420091\n",
      "params: {'vect__ngram_range': (1, 1), 'vect__smooth_idf': True, 'vect__sublinear_tf': False, 'vect__binary': False, 'vect__min_df': 1, 'vect__stop_words': None, 'vect__use_idf': True, 'clf__alpha': 0.1}\n",
      "scorer: <function _passthrough_scorer at 0x11a2332a8>\n"
     ]
    },
    {
     "name": "stderr",
     "output_type": "stream",
     "text": [
      "[Parallel(n_jobs=1)]: Done 9600 out of 9600 | elapsed: 14.4min finished\n"
     ]
    }
   ],
   "source": [
    "# WARNING: Running grid search takes ~15 min\n",
    "# NOTE: You can skip this step and use the hardcoded best estimator from the next cell\n",
    "clf = grid_search_model(create_ngram_model, train_data_pn, train_labels_pn_binary)\n",
    "print(\"\\n*** Best estimator ***\")\n",
    "print(\"score: %s\" % clf.best_score_)\n",
    "print(\"params: %s\" % clf.best_params_)\n",
    "print(\"scorer: %s\" % clf.scorer_)\n",
    "be = clf.best_estimator_"
   ]
  },
  {
   "cell_type": "code",
   "execution_count": 17,
   "metadata": {
    "collapsed": false
   },
   "outputs": [
    {
     "data": {
      "text/plain": [
       "Pipeline(steps=[('vect', TfidfVectorizer(analyzer='word', binary=False, decode_error=u'strict',\n",
       "        dtype=<type 'numpy.int64'>, encoding=u'utf-8', input=u'content',\n",
       "        lowercase=True, max_df=1.0, max_features=None, min_df=1,\n",
       "        ngram_range=(1, 1), norm=u'l2',\n",
       "        preprocessor=<function prep...se_idf=True, vocabulary=None)), ('clf', MultinomialNB(alpha=0.1, class_prior=None, fit_prior=True))])"
      ]
     },
     "execution_count": 17,
     "metadata": {},
     "output_type": "execute_result"
    }
   ],
   "source": [
    "# NOTE: Use hardcoded best estimator\n",
    "def create_be():\n",
    "          \n",
    "    tfidf_ngrams = TfidfVectorizer(preprocessor=preprocessor,\n",
    "                                   ngram_range=(1,1),\n",
    "                                  analyzer=\"word\",\n",
    "                                  binary=False,\n",
    "                                  smooth_idf=True,\n",
    "                                  use_idf=True,\n",
    "                                  min_df=1,\n",
    "                                  stop_words=None,\n",
    "                                  sublinear_tf=False,\n",
    "                                  )\n",
    "    \n",
    "    clf = MultinomialNB(alpha=0.1)\n",
    "    \n",
    "    return Pipeline([('vect', tfidf_ngrams), ('clf', clf)])\n",
    "\n",
    "# hard-coded, so you can skip generation step.\n",
    "be = create_be()\n",
    "be.fit(train_data_pn,train_labels_pn_binary)"
   ]
  },
  {
   "cell_type": "markdown",
   "metadata": {},
   "source": [
    "### Assessing Best Positive vs. Negative Classifier"
   ]
  },
  {
   "cell_type": "code",
   "execution_count": 18,
   "metadata": {
    "collapsed": false
   },
   "outputs": [
    {
     "name": "stdout",
     "output_type": "stream",
     "text": [
      "\n",
      "Accuracy: 0.830601092896  (fraction of correctly classified samples)\n",
      "\n",
      "Classification report:\n",
      "             precision    recall  f1-score   support\n",
      "\n",
      "      False       0.84      0.84      0.84        97\n",
      "       True       0.82      0.83      0.82        86\n",
      "\n",
      "avg / total       0.83      0.83      0.83       183\n",
      "\n",
      "\n",
      "P/R curve (precision/recall) with AUC=0.870800193699 (area under curve = average precision):\n"
     ]
    },
    {
     "data": {
      "image/png": "[encoded data removed]",
      "text/plain": [
       "<matplotlib.figure.Figure at 0x11ba847d0>"
      ]
     },
     "metadata": {},
     "output_type": "display_data"
    }
   ],
   "source": [
    "# Make binary labels\n",
    "d = {'positive': True, 'negative': False}\n",
    "test_labels_pn_binary = test_labels_pn.map(d)\n",
    "\n",
    "# Use continuous index or it'll break in train_model().\n",
    "test_data_pn.index = np.arange(0,len(test_data_pn))\n",
    "test_labels_pn_binary.index = np.arange(0,len(test_labels_pn_binary))\n",
    "#print(test_data_pn.shape)\n",
    "#print(test_labels_pn_binary.shape)\n",
    "\n",
    "#train_data_pn.index = np.arange(0,len(train_data_pn))\n",
    "#train_labels_pn_binary.index = np.arange(0,len(train_labels_pn_binary))\n",
    "\n",
    "prediction_gs1 = be.predict(test_data_pn)\n",
    "score_gs1 = be.score(test_data_pn, test_labels_pn_binary)\n",
    "print(\"\\nAccuracy: %s  (fraction of correctly classified samples)\" % score_gs1)\n",
    "print(\"\\nClassification report:\")\n",
    "print(classification_report(test_labels_pn_binary, prediction_gs1))\n",
    "\n",
    "# Plot Precision/Recall curve for MultinomialNB()\n",
    "#print(test_vectors_pn_nparray)\n",
    "proba_gs1 = be.predict_proba(test_data_pn)\n",
    "precision, recall, _ = precision_recall_curve(test_labels_pn_binary, proba_gs1[:,1])\n",
    "auc_gs1 = auc(recall, precision)\n",
    "\n",
    "precision_s = pd.Series(precision,name='Precision')\n",
    "recall_s = pd.Series(recall,name='Recall')\n",
    "print(\"\\nP/R curve (precision/recall) with AUC=%s (area under curve = average precision):\" % auc_gs1)\n",
    "_ = sns.regplot(x=recall_s,y=precision_s,fit_reg=False)"
   ]
  },
  {
   "cell_type": "markdown",
   "metadata": {},
   "source": [
    "### Positive/Negative vs. Irrelevant/Neutral Hyperparameter Training"
   ]
  },
  {
   "cell_type": "code",
   "execution_count": 19,
   "metadata": {
    "collapsed": false
   },
   "outputs": [],
   "source": [
    "# Look at pos/neg against irrelevant/neutral\n",
    "d = {'positive': True, 'negative': True, 'irrelevant': False, 'neutral': False}\n",
    "train_labels_tweak_binary = train_labels.map(d)\n",
    "\n",
    "# Use continuous index\n",
    "#train_data.index = np.arange(0,len(train_data))\n",
    "train_labels_tweak_binary.index = np.arange(0,len(train_labels_tweak_binary))"
   ]
  },
  {
   "cell_type": "code",
   "execution_count": 20,
   "metadata": {
    "collapsed": false
   },
   "outputs": [
    {
     "name": "stdout",
     "output_type": "stream",
     "text": [
      "Fitting 10 folds for each of 960 candidates, totalling 9600 fits\n"
     ]
    },
    {
     "name": "stderr",
     "output_type": "stream",
     "text": [
      "[Parallel(n_jobs=1)]: Done  49 tasks       | elapsed:   13.5s\n",
      "[Parallel(n_jobs=1)]: Done 199 tasks       | elapsed:  1.0min\n",
      "[Parallel(n_jobs=1)]: Done 449 tasks       | elapsed:  3.0min\n",
      "[Parallel(n_jobs=1)]: Done 799 tasks       | elapsed:  5.1min\n",
      "[Parallel(n_jobs=1)]: Done 1249 tasks       | elapsed:  8.3min\n",
      "[Parallel(n_jobs=1)]: Done 1799 tasks       | elapsed: 12.2min\n",
      "[Parallel(n_jobs=1)]: Done 2449 tasks       | elapsed: 16.8min\n",
      "[Parallel(n_jobs=1)]: Done 3199 tasks       | elapsed: 21.8min\n",
      "[Parallel(n_jobs=1)]: Done 4049 tasks       | elapsed: 27.5min\n",
      "[Parallel(n_jobs=1)]: Done 4999 tasks       | elapsed: 33.9min\n",
      "[Parallel(n_jobs=1)]: Done 6049 tasks       | elapsed: 41.0min\n",
      "[Parallel(n_jobs=1)]: Done 7199 tasks       | elapsed: 49.1min\n",
      "[Parallel(n_jobs=1)]: Done 8449 tasks       | elapsed: 57.2min\n",
      "[Parallel(n_jobs=1)]: Done 9600 out of 9600 | elapsed: 65.3min finished\n"
     ]
    },
    {
     "name": "stdout",
     "output_type": "stream",
     "text": [
      "\n",
      "*** Best estimator ***\n",
      "score: 0.84676056338\n",
      "params: {'vect__ngram_range': (1, 2), 'vect__smooth_idf': False, 'vect__sublinear_tf': True, 'vect__binary': False, 'vect__min_df': 1, 'vect__stop_words': None, 'vect__use_idf': False, 'clf__alpha': 0.1}\n",
      "scorer: <function _passthrough_scorer at 0x11a2332a8>\n"
     ]
    }
   ],
   "source": [
    "# WARNING: Running grid search takes ~60 min\n",
    "# NOTE: You can skip this step and use the hardcoded best estimator from the next cell\n",
    "clf2 = grid_search_model(create_ngram_model, train_data, train_labels_tweak_binary)\n",
    "print(\"\\n*** Best estimator ***\")\n",
    "print(\"score: %s\" % clf2.best_score_)\n",
    "print(\"params: %s\" % clf2.best_params_)\n",
    "print(\"scorer: %s\" % clf2.scorer_)\n",
    "be2 = clf2.best_estimator_"
   ]
  },
  {
   "cell_type": "code",
   "execution_count": 21,
   "metadata": {
    "collapsed": false
   },
   "outputs": [
    {
     "data": {
      "text/plain": [
       "Pipeline(steps=[('vect', TfidfVectorizer(analyzer='word', binary=False, decode_error=u'strict',\n",
       "        dtype=<type 'numpy.int64'>, encoding=u'utf-8', input=u'content',\n",
       "        lowercase=True, max_df=1.0, max_features=None, min_df=1,\n",
       "        ngram_range=(1, 2), norm=u'l2',\n",
       "        preprocessor=<function prep...e_idf=False, vocabulary=None)), ('clf', MultinomialNB(alpha=0.1, class_prior=None, fit_prior=True))])"
      ]
     },
     "execution_count": 21,
     "metadata": {},
     "output_type": "execute_result"
    }
   ],
   "source": [
    "# NOTE: Use hardcoded best estimator\n",
    "def create_be2():\n",
    "    \n",
    "    def preprocessor(tweet):\n",
    "        tweet = tweet.lower()\n",
    "        for k in emo_repl_order:\n",
    "            tweet = tweet.replace(k, emo_repl[k])\n",
    "        for r, repl in re_repl.items():\n",
    "            tweet = re.sub(r, repl, tweet)\n",
    "        return tweet\n",
    "    \n",
    "    tfidf_ngrams = TfidfVectorizer(preprocessor=preprocessor,\n",
    "                                   ngram_range=(1,2),\n",
    "                                  analyzer=\"word\",\n",
    "                                  binary=False,\n",
    "                                  smooth_idf=False,\n",
    "                                  use_idf=False,\n",
    "                                  min_df=1,\n",
    "                                  stop_words=None,\n",
    "                                  sublinear_tf=True,\n",
    "                                  )\n",
    "    \n",
    "    clf = MultinomialNB(alpha=0.1)\n",
    "    return Pipeline([('vect', tfidf_ngrams), ('clf', clf)])\n",
    "\n",
    "# hard-coded, so you can skip generation step.\n",
    "be2 = create_be2()\n",
    "\n",
    "# Look at pos/neg against irrelevant/neutral\n",
    "d = {'positive': True, 'negative': True, 'irrelevant': False, 'neutral': False}\n",
    "train_labels_tweak_binary = train_labels.map(d)\n",
    "train_labels_tweak_binary.index = np.arange(0,len(train_labels_tweak_binary))\n",
    "\n",
    "be2.fit(train_data,train_labels_tweak_binary)"
   ]
  },
  {
   "cell_type": "markdown",
   "metadata": {},
   "source": [
    "### Assessing Best Positive/Negative vs. Irrelevant/Neutral Classifier"
   ]
  },
  {
   "cell_type": "code",
   "execution_count": 22,
   "metadata": {
    "collapsed": false
   },
   "outputs": [
    {
     "name": "stdout",
     "output_type": "stream",
     "text": [
      "\n",
      "Accuracy: 0.850225225225  (fraction of correctly classified samples)\n",
      "\n",
      "Classification report:\n",
      "             precision    recall  f1-score   support\n",
      "\n",
      "      False       0.87      0.95      0.91       706\n",
      "       True       0.71      0.46      0.56       182\n",
      "\n",
      "avg / total       0.84      0.85      0.84       888\n",
      "\n",
      "\n",
      "P/R curve (precision/recall) with AUC=0.695263347714 (area under curve = average precision):\n"
     ]
    },
    {
     "data": {
      "image/png": "[encoded data removed]",
      "text/plain": [
       "<matplotlib.figure.Figure at 0x11bf855d0>"
      ]
     },
     "metadata": {},
     "output_type": "display_data"
    }
   ],
   "source": [
    "# Make binary labels\n",
    "d = {'positive': True, 'negative': True, 'irrelevant': False, 'neutral': False}\n",
    "test_labels_tweak_binary = test_labels.map(d)\n",
    "\n",
    "# Use continuous index or it'll break in train_model().\n",
    "test_data.index = np.arange(0,len(test_data))\n",
    "test_labels_tweak_binary.index = np.arange(0,len(test_labels_tweak_binary))\n",
    "\n",
    "prediction_gs2 = be2.predict(test_data)\n",
    "score_gs2 = be2.score(test_data, test_labels_tweak_binary)\n",
    "print(\"\\nAccuracy: %s  (fraction of correctly classified samples)\" % score_gs2)\n",
    "print(\"\\nClassification report:\")\n",
    "print(classification_report(test_labels_tweak_binary, prediction_gs2))\n",
    "\n",
    "# Plot Precision/Recall curve for MultinomialNB()\n",
    "#print(test_vectors_pn_nparray)\n",
    "proba_gs2 = be2.predict_proba(test_data)\n",
    "precision, recall, _ = precision_recall_curve(test_labels_tweak_binary, proba_gs2[:,1])\n",
    "auc_gs2 = auc(recall, precision)\n",
    "\n",
    "precision_s = pd.Series(precision,name='Precision')\n",
    "recall_s = pd.Series(recall,name='Recall')\n",
    "print(\"\\nP/R curve (precision/recall) with AUC=%s (area under curve = average precision):\" % auc_gs2)\n",
    "_ = sns.regplot(x=recall_s,y=precision_s,fit_reg=False)"
   ]
  },
  {
   "cell_type": "markdown",
   "metadata": {},
   "source": [
    "### Sanders Corpus Classifier Score "
   ]
  },
  {
   "cell_type": "code",
   "execution_count": 23,
   "metadata": {
    "collapsed": false
   },
   "outputs": [
    {
     "name": "stdout",
     "output_type": "stream",
     "text": [
      "          Date        gain   d2  sanders    sc2  pos_sa  neg_sa  neu_sa\n",
      "20  2016-11-02  -58.080078 -1.0       -1   True       0       1      43\n",
      "19  2016-11-03  -48.080078 -1.0       -1   True       0       1      96\n",
      "18  2016-11-04  -40.070312 -1.0        0  False       1       1      90\n",
      "17  2016-11-07  264.958984  1.0       -1  False       4       5     136\n",
      "16  2016-11-08   81.359375  1.0       -1  False       1       2     211\n",
      "15  2016-11-09  272.429687  1.0      -46  False      68     114    1829\n",
      "14  2016-11-10  204.740234  1.0       -3  False       5       8     545\n",
      "13  2016-11-11   66.009765  1.0       -2  False       0       2      31\n",
      "12  2016-11-14   -8.080078  0.0       -2  False       0       2     197\n",
      "11  2016-11-15   64.849609  1.0        1   True       2       1     185\n",
      "10  2016-11-16  -41.708984 -1.0       -3   True       1       4     163\n",
      "9   2016-11-17   37.599609  1.0        0  False       2       2     155\n",
      "8   2016-11-18  -37.400390 -1.0        0  False       0       0     133\n",
      "7   2016-11-21   58.009765  1.0       -3  False       0       3     122\n",
      "6   2016-11-22   53.478516  1.0       -1  False      13      14     539\n",
      "5   2016-11-23   67.660157  1.0       -3  False       0       3     342\n",
      "4   2016-11-25   58.419922  1.0       -4  False       0       4     129\n",
      "3   2016-11-28  -24.240234 -1.0       -1   True       0       1      87\n",
      "2   2016-11-29   57.529297  1.0        0  False       0       0     108\n",
      "1   2016-11-30  -12.060547  0.0        0   True       1       1      99\n",
      "0   2016-12-01   42.730469  1.0        0  False       0       0     144\n",
      "\n",
      "Score sanders:   6 (28.57%)\n"
     ]
    }
   ],
   "source": [
    "def get_tweets(file,tweak=False):\n",
    "    \n",
    "    dow=[]\n",
    "    with open(file) as data_file:    \n",
    "        data = json.load(data_file)\n",
    "        \n",
    "        for tweet in data:\n",
    "            terms = tweet['text']\n",
    "            terms = processTweet(terms)\n",
    "            terms = preprocessor(terms)\n",
    "            # Tweak for DowJones\n",
    "            if tweak == True:\n",
    "                terms = re.sub(r\"dowjones (\\w+\\s)?up\", \"GREAT AWESOME LOVE\", terms)\n",
    "                terms = re.sub(r\"dowjones (\\w+\\s)?hit(\\w+)? (\\w+\\s)?high\", \"GREAT AWESOME LOVE\", terms)\n",
    "                terms = re.sub(r\"record high\", \"GREAT AWESOME LOVE\", terms)\n",
    "                terms = re.sub(r\"less risky\", \"GREAT AWESOME LOVE\", terms)\n",
    "            dow.append(terms)\n",
    "            \n",
    "    return dow\n",
    "\n",
    "sentiment_ml = []\n",
    "pos_ml = []\n",
    "neg_ml = []\n",
    "neutral_ml = []\n",
    "for date in Ticker['Date']:\n",
    "    dow = get_tweets('./data/dowjones/tweets.searchapi.' + date + '.json',tweak=False)\n",
    "    \n",
    "    pos = 0\n",
    "    neg = 0\n",
    "    neutral = 0\n",
    "    for t in dow:\n",
    "        tseries = pd.Series(t)\n",
    "        tsent = be2.predict(tseries)\n",
    "        if tsent == True:\n",
    "            tpos = be.predict(tseries)\n",
    "            if tpos == True:\n",
    "                pos += 1\n",
    "            else:\n",
    "                neg += 1\n",
    "        else:\n",
    "            neutral += 1\n",
    "\n",
    "    pos_ml.append(pos)\n",
    "    neg_ml.append(neg)\n",
    "    neutral_ml.append(neutral)\n",
    "    sentiment_ml.append(pos - neg)\n",
    "\n",
    "Ticker['sanders'] = sentiment_ml\n",
    "Ticker['pos_sa'] = pos_ml\n",
    "Ticker['neg_sa'] = neg_ml\n",
    "Ticker['neu_sa'] = neutral_ml\n",
    "Ticker['d2'] = Ticker['d1']\n",
    "mask = (Ticker['gain'] > 20) | (Ticker['gain'] < -20)\n",
    "Ticker['d2'] = np.where(mask,Ticker['d2'].values,0)\n",
    "\n",
    "sanders_direction = np.sign(Ticker['sanders'])\n",
    "Ticker['sc2'] = Ticker['d2'] == sanders_direction\n",
    "score = Ticker['sc2'].value_counts()\n",
    "\n",
    "print(Ticker[['Date','gain','d2','sanders','sc2','pos_sa','neg_sa','neu_sa']])\n",
    "print(\"\\nScore sanders:   %s (%.2f%%)\" % (score.get(True),100*score.get(True)/float(len(Ticker))))"
   ]
  },
  {
   "cell_type": "markdown",
   "metadata": {},
   "source": [
    "### Tweaking Sanders Corpus Classifier\n",
    "\n",
    "Result due to training on Sanders corpus, which is focussed on products. Make small adjustments for DowJones sentiment."
   ]
  },
  {
   "cell_type": "code",
   "execution_count": 24,
   "metadata": {
    "collapsed": false
   },
   "outputs": [
    {
     "name": "stdout",
     "output_type": "stream",
     "text": [
      "          Date        gain   d2  sanders    sc2  pos_sa  neg_sa  neu_sa\n",
      "20  2016-11-02  -58.080078 -1.0       -1   True       0       1      43\n",
      "19  2016-11-03  -48.080078 -1.0       -1   True       0       1      96\n",
      "18  2016-11-04  -40.070312 -1.0        0  False       1       1      90\n",
      "17  2016-11-07  264.958984  1.0        2   True       7       5     133\n",
      "16  2016-11-08   81.359375  1.0        0  False       2       2     210\n",
      "15  2016-11-09  272.429687  1.0       12   True     121     109    1781\n",
      "14  2016-11-10  204.740234  1.0       57   True      62       5     491\n",
      "13  2016-11-11   66.009765  1.0       -2  False       0       2      31\n",
      "12  2016-11-14   -8.080078  0.0        2  False       3       1     195\n",
      "11  2016-11-15   64.849609  1.0        4   True       5       1     182\n",
      "10  2016-11-16  -41.708984 -1.0       -2   True       2       4     162\n",
      "9   2016-11-17   37.599609  1.0        2   True       3       1     155\n",
      "8   2016-11-18  -37.400390 -1.0        0  False       0       0     133\n",
      "7   2016-11-21   58.009765  1.0       -3  False       0       3     122\n",
      "6   2016-11-22   53.478516  1.0        3   True      16      13     537\n",
      "5   2016-11-23   67.660157  1.0       -2  False       1       3     341\n",
      "4   2016-11-25   58.419922  1.0       -4  False       0       4     129\n",
      "3   2016-11-28  -24.240234 -1.0       -1   True       0       1      87\n",
      "2   2016-11-29   57.529297  1.0        0  False       0       0     108\n",
      "1   2016-11-30  -12.060547  0.0        0   True       1       1      99\n",
      "0   2016-12-01   42.730469  1.0        1   True       1       0     143\n",
      "\n",
      "Score sanders:   12 (57.14%)\n"
     ]
    }
   ],
   "source": [
    "sentiment_ml = []\n",
    "pos_ml = []\n",
    "neg_ml = []\n",
    "neutral_ml = []\n",
    "for date in Ticker['Date']:\n",
    "    dow = get_tweets('./data/dowjones/tweets.searchapi.' + date + '.json',tweak=True)    \n",
    "    pos = 0\n",
    "    neg = 0\n",
    "    neutral = 0\n",
    "    for t in dow:\n",
    "        tseries = pd.Series(t)\n",
    "        tsent = be2.predict(tseries)\n",
    "        if tsent == True:\n",
    "            tpos = be.predict(tseries)\n",
    "            if tpos == True:\n",
    "                pos += 1\n",
    "            else:\n",
    "                neg += 1\n",
    "        else:\n",
    "            neutral += 1\n",
    "\n",
    "    pos_ml.append(pos)\n",
    "    neg_ml.append(neg)\n",
    "    neutral_ml.append(neutral)\n",
    "    sentiment_ml.append(pos - neg)\n",
    "\n",
    "Ticker['sanders'] = sentiment_ml\n",
    "Ticker['pos_sa'] = pos_ml\n",
    "Ticker['neg_sa'] = neg_ml\n",
    "Ticker['neu_sa'] = neutral_ml\n",
    "\n",
    "sanders_direction = np.sign(Ticker['sanders'])\n",
    "Ticker['sc2'] = Ticker['d2'] == sanders_direction\n",
    "score_sanders = Ticker['sc2'].value_counts()\n",
    "\n",
    "print(Ticker[['Date','gain','d2','sanders','sc2','pos_sa','neg_sa','neu_sa']])\n",
    "print(\"\\nScore sanders:   %s (%.2f%%)\" % (score_sanders.get(True),100*score_sanders.get(True)/float(len(Ticker))))"
   ]
  },
  {
   "cell_type": "markdown",
   "metadata": {},
   "source": [
    "## API based approach for Sentiment Analysis with Sentiment140"
   ]
  },
  {
   "cell_type": "markdown",
   "metadata": {},
   "source": [
    "```python\n",
    "# Convert twitter JSON to sentiment140 JSON\n",
    "# Execute once\n",
    "import json\n",
    "\n",
    "def get_tweets_bulk(file):\n",
    "    minilst=[]\n",
    "    with open(file) as data_file:\n",
    "        data = json.load(data_file)\n",
    "        for tweet in data:\n",
    "            mini={}\n",
    "            mini['id'] = tweet['id']\n",
    "            mini['query'] = 'dowjones'\n",
    "            text = tweet['text']\n",
    "            text = text.replace(\"'\", \"\") \n",
    "            mini['text'] = text\n",
    "            minilst.append(mini)\n",
    "            \n",
    "    return minilst\n",
    "\n",
    "bulk = {}\n",
    "bulk['language'] = 'auto'\n",
    "for date in Ticker['Date']:\n",
    "    dow = get_tweets_bulk('./data/dowjones/tweets.searchapi.' + date + '.json')\n",
    "    bulk['data'] = dow\n",
    "    outname = './data/json/bulk.' + date + '.json'\n",
    "    with open(outname, 'w') as outfile:\n",
    "        json.dump(bulk, outfile, ensure_ascii=True)\n",
    "```"
   ]
  },
  {
   "cell_type": "markdown",
   "metadata": {},
   "source": [
    "```sh\n",
    "#!/bin/bash\n",
    "\n",
    "bulkfile=`ls ./data/json`\n",
    "\n",
    "for f in $bulkfile\n",
    "do\n",
    "    echo \"Processing \" $f \"...\"\n",
    "    filepath='./data/json/'$f\n",
    "    echo $filepath\n",
    "    result=`curl --data @${filepath} http://www.sentiment140.com/api/bulkClassifyJson?appid=<YOUR_EMAIL>`\n",
    "    echo $result > ./data/json140/$f\n",
    "    sleep 10\n",
    "done\n",
    "```"
   ]
  },
  {
   "cell_type": "markdown",
   "metadata": {},
   "source": [
    "### Sentiment140 Classifier Score\n",
    "\n",
    "The polarity values are:\n",
    "\n",
    "- 0: negative\n",
    "- 2: neutral\n",
    "- 4: positive"
   ]
  },
  {
   "cell_type": "code",
   "execution_count": 25,
   "metadata": {
    "collapsed": false
   },
   "outputs": [
    {
     "name": "stdout",
     "output_type": "stream",
     "text": [
      "          Date        gain  ml140    sc3  pos_140  neg_140  neu_140\n",
      "20  2016-11-02  -58.080078      0  False        0        0       44\n",
      "19  2016-11-03  -48.080078      0  False        1        1       95\n",
      "18  2016-11-04  -40.070312     -1   True        3        4       85\n",
      "17  2016-11-07  264.958984      5   True        7        2      136\n",
      "16  2016-11-08   81.359375      6   True        8        2      204\n",
      "15  2016-11-09  272.429687     33   True      121       88     1802\n",
      "14  2016-11-10  204.740234     27   True       44       17      497\n",
      "13  2016-11-11   66.009765      0  False        2        2       29\n",
      "12  2016-11-14   -8.080078     14  False       15        1      183\n",
      "11  2016-11-15   64.849609      5   True        8        3      177\n",
      "10  2016-11-16  -41.708984      9  False       11        2      155\n",
      "9   2016-11-17   37.599609     43   True       43        0      116\n",
      "8   2016-11-18  -37.400390      3  False        3        0      130\n",
      "7   2016-11-21   58.009765      1   True        1        0      124\n",
      "6   2016-11-22   53.478516     16   True       24        8      534\n",
      "5   2016-11-23   67.660157      5   True        5        0      340\n",
      "4   2016-11-25   58.419922      4   True        4        0      129\n",
      "3   2016-11-28  -24.240234     -1   True        0        1       87\n",
      "2   2016-11-29   57.529297      0  False        0        0      108\n",
      "1   2016-11-30  -12.060547      2  False        2        0       99\n",
      "0   2016-12-01   42.730469      3   True        3        0      125\n",
      "\n",
      "Score ML140:   13 (61.90%)\n"
     ]
    }
   ],
   "source": [
    "import io\n",
    "\n",
    "pos140=[]\n",
    "neg140=[]\n",
    "neutral140=[]\n",
    "sent140=[]\n",
    "\n",
    "for date in Ticker['Date']:\n",
    "    inname = './data/json140/bulk.' + date + '.json'\n",
    "    with io.open(inname, 'r', encoding='latin-1') as infile:\n",
    "        pol = json.load(infile)\n",
    "        tweets = pol['data']\n",
    "        pos=0\n",
    "        neg=0\n",
    "        neutral=0\n",
    "        for t in tweets:\n",
    "            pol = t['polarity']\n",
    "            if pol == 2:\n",
    "                neutral += 1\n",
    "            elif pol == 0:\n",
    "                neg += 1\n",
    "            elif pol == 4:\n",
    "                pos += 1\n",
    "        #print(\"pos: %s  neg: %s  neutral: %s\" % (pos,neg,neutral))\n",
    "        pos140.append(pos)\n",
    "        neg140.append(neg)\n",
    "        neutral140.append(neutral)\n",
    "        sent140.append(pos-neg)\n",
    "        \n",
    "Ticker['ml140'] = sent140\n",
    "Ticker['pos_140'] = pos140\n",
    "Ticker['neg_140'] = neg140\n",
    "Ticker['neu_140'] = neutral140\n",
    "\n",
    "Ticker['sc3'] = np.sign( Ticker['gain'] * Ticker['ml140'])\n",
    "\n",
    "ml140_direction = np.sign(Ticker['ml140'])\n",
    "Ticker['sc3'] = Ticker['d2'] == ml140_direction\n",
    "score140 = Ticker['sc3'].value_counts()\n",
    "\n",
    "print(Ticker[['Date','gain','ml140','sc3', 'pos_140', 'neg_140', 'neu_140']])\n",
    "print(\"\\nScore ML140:   %s (%.2f%%)\" % (score140.get(True),100*score140.get(True)/float(len(Ticker))))"
   ]
  },
  {
   "cell_type": "markdown",
   "metadata": {},
   "source": [
    "## Conclusion"
   ]
  },
  {
   "cell_type": "code",
   "execution_count": 26,
   "metadata": {
    "collapsed": false
   },
   "outputs": [
    {
     "name": "stdout",
     "output_type": "stream",
     "text": [
      "\n",
      "*** Summary ***\n",
      "\n",
      "Score Sanders:   12 (57.14%)\n",
      "Score ML140:     13 (61.90%)\n",
      "\n",
      "          Date        gain   d2  sanders    sc2  ml140    sc3\n",
      "20  2016-11-02  -58.080078 -1.0       -1   True      0  False\n",
      "19  2016-11-03  -48.080078 -1.0       -1   True      0  False\n",
      "18  2016-11-04  -40.070312 -1.0        0  False     -1   True\n",
      "17  2016-11-07  264.958984  1.0        2   True      5   True\n",
      "16  2016-11-08   81.359375  1.0        0  False      6   True\n",
      "15  2016-11-09  272.429687  1.0       12   True     33   True\n",
      "14  2016-11-10  204.740234  1.0       57   True     27   True\n",
      "13  2016-11-11   66.009765  1.0       -2  False      0  False\n",
      "12  2016-11-14   -8.080078  0.0        2  False     14  False\n",
      "11  2016-11-15   64.849609  1.0        4   True      5   True\n",
      "10  2016-11-16  -41.708984 -1.0       -2   True      9  False\n",
      "9   2016-11-17   37.599609  1.0        2   True     43   True\n",
      "8   2016-11-18  -37.400390 -1.0        0  False      3  False\n",
      "7   2016-11-21   58.009765  1.0       -3  False      1   True\n",
      "6   2016-11-22   53.478516  1.0        3   True     16   True\n",
      "5   2016-11-23   67.660157  1.0       -2  False      5   True\n",
      "4   2016-11-25   58.419922  1.0       -4  False      4   True\n",
      "3   2016-11-28  -24.240234 -1.0       -1   True     -1   True\n",
      "2   2016-11-29   57.529297  1.0        0  False      0  False\n",
      "1   2016-11-30  -12.060547  0.0        0   True      2  False\n",
      "0   2016-12-01   42.730469  1.0        1   True      3   True\n"
     ]
    }
   ],
   "source": [
    "print(\"\\n*** Summary ***\")\n",
    "print\n",
    "print(\"Score Sanders:   %s (%.2f%%)\" % (score_sanders.get(True),100*score_sanders.get(True)/float(len(Ticker))))\n",
    "print(\"Score ML140:     %s (%.2f%%)\" % (score140.get(True),100*score140.get(True)/float(len(Ticker))))\n",
    "print\n",
    "print(Ticker[['Date','gain','d2','sanders','sc2', 'ml140', 'sc3']])"
   ]
  },
  {
   "cell_type": "code",
   "execution_count": null,
   "metadata": {
    "collapsed": true
   },
   "outputs": [],
   "source": []
  }
 ],
 "metadata": {
  "anaconda-cloud": {},
  "kernelspec": {
   "display_name": "Python [conda env:sencast.py27]",
   "language": "python",
   "name": "conda-env-sencast.py27-py"
  },
  "language_info": {
   "codemirror_mode": {
    "name": "ipython",
    "version": 2
   },
   "file_extension": ".py",
   "mimetype": "text/x-python",
   "name": "python",
   "nbconvert_exporter": "python",
   "pygments_lexer": "ipython2",
   "version": "2.7.12"
  }
 },
 "nbformat": 4,
 "nbformat_minor": 0
}
